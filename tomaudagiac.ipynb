{
 "cells": [
  {
   "cell_type": "code",
   "execution_count": null,
   "id": "199446df",
   "metadata": {},
   "outputs": [],
   "source": [
    "import turtle \n",
    "\n",
    "tl= turtle.Turtle()\n",
    "tl.hideturtle()\n",
    "tl.pencolor('black')\n",
    "tl.speed(1)\n",
    "\n",
    "\n",
    "tl.fillcolor('green')\n",
    "tl.begin_fill()\n",
    "tl.forward(80)\n",
    "tl.left(36)\n",
    "tl.forward(80)\n",
    "tl.left(36)\n",
    "tl.forward(80)\n",
    "tl.left(36)\n",
    "tl.forward(80)\n",
    "tl.left(36)\n",
    "tl.forward(80)\n",
    "tl.left(36)\n",
    "tl.forward(80)\n",
    "tl.left(36)\n",
    "tl.forward(80)\n",
    "tl.left(36)\n",
    "tl.forward(80)\n",
    "tl.left(36)\n",
    "tl.forward(80)\n",
    "tl.left(36)\n",
    "tl.forward(80)\n",
    "tl.end_fill()\n",
    "\n",
    "\n",
    "turtle.done()"
   ]
  },
  {
   "cell_type": "code",
   "execution_count": null,
   "id": "4b14e151",
   "metadata": {},
   "outputs": [],
   "source": []
  }
 ],
 "metadata": {
  "kernelspec": {
   "display_name": "Python 3 (ipykernel)",
   "language": "python",
   "name": "python3"
  },
  "language_info": {
   "codemirror_mode": {
    "name": "ipython",
    "version": 3
   },
   "file_extension": ".py",
   "mimetype": "text/x-python",
   "name": "python",
   "nbconvert_exporter": "python",
   "pygments_lexer": "ipython3",
   "version": "3.9.7"
  }
 },
 "nbformat": 4,
 "nbformat_minor": 5
}
