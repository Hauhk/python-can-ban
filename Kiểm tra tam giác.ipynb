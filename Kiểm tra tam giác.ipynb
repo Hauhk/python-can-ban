{
 "cells": [
  {
   "cell_type": "code",
   "execution_count": null,
   "id": "e3733b1d",
   "metadata": {},
   "outputs": [],
   "source": [
    "# khai báo biến\n",
    "import math \n",
    "xA = 5\n",
    "yA = 6\n",
    "xB = 4\n",
    "yB = 8\n",
    "xC = 9\n",
    "yC = 10\n",
    "#tính độ dài 3 đoạn thẳng\n",
    "a = math.sqrt((((xB-xA)*(xB-xA))+((yB-yA)*(yB-yA))))\n",
    "b = math.sqrt((((xC-xB)*(xC-xB))+((yC-yB)*(yC-yB))))\n",
    "c = math.sqrt((((xC-xA)*(xC-xA))+((yC-yA)*(yC-yA))))\n",
    "# kiểm tra 3 điểm là 3 đỉnh của tam giác\n",
    "t3 = a + b !=c \n",
    "print(t3)\n",
    "if t3 == True:\n",
    "\ttgc = a == b or a == c or b == c;\n",
    "\tprint(tgc);\n",
    "\ttgd = a == b == c; \n",
    "\tprint(tgd);\n",
    "\ttgv\t= a*a == b*b + c or b*b == a*a + c*c or c*c == b*b + a*a;\n",
    "\tprint(tgv)"
   ]
  },
  {
   "cell_type": "code",
   "execution_count": null,
   "id": "bc44773c",
   "metadata": {},
   "outputs": [],
   "source": []
  }
 ],
 "metadata": {
  "kernelspec": {
   "display_name": "Python 3 (ipykernel)",
   "language": "python",
   "name": "python3"
  },
  "language_info": {
   "codemirror_mode": {
    "name": "ipython",
    "version": 3
   },
   "file_extension": ".py",
   "mimetype": "text/x-python",
   "name": "python",
   "nbconvert_exporter": "python",
   "pygments_lexer": "ipython3",
   "version": "3.9.7"
  }
 },
 "nbformat": 4,
 "nbformat_minor": 5
}
