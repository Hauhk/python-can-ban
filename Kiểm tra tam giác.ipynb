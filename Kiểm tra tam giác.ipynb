{
 "cells": [
  {
   "cell_type": "code",
   "execution_count": 1,
   "id": "e3733b1d",
   "metadata": {},
   "outputs": [
    {
     "name": "stdout",
     "output_type": "stream",
     "text": [
      "True\n",
      "False\n",
      "False\n",
      "False\n"
     ]
    }
   ],
   "source": [
    "# khai báo biến\n",
    "import math \n",
    "xA = 5\n",
    "yA = 6\n",
    "xB = 4\n",
    "yB = 8\n",
    "xC = 9\n",
    "yC = 10\n",
    "\n",
    "#tính độ dài 3 đoạn thẳng\n",
    "a = math.sqrt((((4-5)*(4-5))+((8-6)*(8-6))))\n",
    "b = math.sqrt((((9-4)*(9-4))+((10-8)*(10-8))))\n",
    "c = math.sqrt((((9-5)*(9-5))+((10-6)*(10-6))))\n",
    "\n",
    "# kiểm tra 3 điểm là 3 đỉnh của tam giác\n",
    "t3 = a + b !=c \n",
    "print(t3)\n",
    "\n",
    "#kiểm tra tam giác cân \n",
    "tgc = a == b or a == c or b == c \n",
    "print(tgc)\n",
    "\n",
    "#kiểm tra tam giác đều\n",
    "tgd = a == b == c \n",
    "print(tgd)\n",
    "\n",
    "# kiểm tra tam giác vuông\n",
    "tgv\t= a*a == b*b + c or b*b == a*a + c*c or c*c == b*b + a*a \n",
    "print(tgv)\n",
    "\t\t"
   ]
  },
  {
   "cell_type": "code",
   "execution_count": null,
   "id": "bc44773c",
   "metadata": {},
   "outputs": [],
   "source": []
  }
 ],
 "metadata": {
  "kernelspec": {
   "display_name": "Python 3 (ipykernel)",
   "language": "python",
   "name": "python3"
  },
  "language_info": {
   "codemirror_mode": {
    "name": "ipython",
    "version": 3
   },
   "file_extension": ".py",
   "mimetype": "text/x-python",
   "name": "python",
   "nbconvert_exporter": "python",
   "pygments_lexer": "ipython3",
   "version": "3.9.7"
  }
 },
 "nbformat": 4,
 "nbformat_minor": 5
}
