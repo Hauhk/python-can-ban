{
 "cells": [
  {
   "cell_type": "code",
   "execution_count": 1,
   "id": "9dc3c1b2",
   "metadata": {},
   "outputs": [],
   "source": [
    "import turtle\n",
    "t = turtle.Turtle()\n",
    "t.shape(\"turtle\")\n",
    "t.hideturtle()\n",
    "t.speed(1)\n",
    "\n",
    "#khởi tạo cờ\n",
    "t.forward(180)\n",
    "t.right(90)\n",
    "t.backward(120)\n",
    "t.left(90)\n",
    "t.backward(180)\n",
    "t.left(90)\n",
    "t.backward(120)\n",
    "\n",
    "t.fillcolor('blue')\n",
    "t.begin_fill()\n",
    "t.right(90)\n",
    "t.forward(60)\n",
    "t.right(90)\n",
    "t.backward(120)\n",
    "t.left(90)\n",
    "t.backward(60)\n",
    "t.left(90)\n",
    "t.backward(120)\n",
    "t.end_fill()\n",
    "\n",
    "t.right(90)\n",
    "t.forward(120)\n",
    "t.fillcolor('white')\n",
    "t.begin_fill()\n",
    "t.right(90)\n",
    "t.backward(120)\n",
    "t.left(90)\n",
    "t.backward(60)\n",
    "t.left(90)\n",
    "t.backward(120)\n",
    "t.left(90)\n",
    "t.backward(60)\n",
    "t.end_fill()\n",
    "\n",
    "t.fillcolor('red')\n",
    "t.begin_fill()\n",
    "t.backward(60)\n",
    "t.left(90)\n",
    "t.backward(120)\n",
    "t.left(90)\n",
    "t.backward(60)\n",
    "t.left(90)\n",
    "t.backward(120)\n",
    "t.end_fill()\n",
    "\n",
    "\n",
    "#hoàn thành vẻ\n",
    "turtle.done()"
   ]
  },
  {
   "cell_type": "code",
   "execution_count": null,
   "id": "d3c0e11f",
   "metadata": {},
   "outputs": [],
   "source": []
  },
  {
   "cell_type": "code",
   "execution_count": null,
   "id": "8e38a254",
   "metadata": {},
   "outputs": [],
   "source": []
  },
  {
   "cell_type": "code",
   "execution_count": null,
   "id": "632bb92b",
   "metadata": {},
   "outputs": [],
   "source": []
  }
 ],
 "metadata": {
  "kernelspec": {
   "display_name": "Python 3 (ipykernel)",
   "language": "python",
   "name": "python3"
  },
  "language_info": {
   "codemirror_mode": {
    "name": "ipython",
    "version": 3
   },
   "file_extension": ".py",
   "mimetype": "text/x-python",
   "name": "python",
   "nbconvert_exporter": "python",
   "pygments_lexer": "ipython3",
   "version": "3.9.7"
  }
 },
 "nbformat": 4,
 "nbformat_minor": 5
}
