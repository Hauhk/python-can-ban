{
 "cells": [
  {
   "cell_type": "code",
   "execution_count": null,
   "id": "5d4d8ab7",
   "metadata": {},
   "outputs": [],
   "source": [
    "import turtle\n",
    "\n",
    "x = 120\n",
    "\n",
    "t = turtle.Turtle()\n",
    "t.shape(\"turtle\")\n",
    "t.hideturtle()\n",
    "t.speed(1)\n",
    "\n",
    "t.penup()\n",
    "t.goto(-x,0)\n",
    "t.pendown()\n",
    "t.fillcolor('blue')\n",
    "t.begin_fill()\n",
    "t.right(90)\n",
    "t.forward(x)\n",
    "t.left(90)\n",
    "t.forward(x)\n",
    "t.left(90)\n",
    "t.forward(x*2)\n",
    "t.left(90)\n",
    "t.forward(x)\n",
    "t.left(90)\n",
    "t.forward(x)\n",
    "t.end_fill()\n",
    "\n",
    "t.penup()\n",
    "t.goto(0,-x)\n",
    "t.pendown()\n",
    "t.fillcolor('white')\n",
    "t.begin_fill()\n",
    "t.left(90)\n",
    "t.forward(x)\n",
    "t.left(90)\n",
    "t.forward(x*2)\n",
    "t.left(90)\n",
    "t.forward(x)\n",
    "t.end_fill()\n",
    "\n",
    "t.penup()\n",
    "t.goto( x,-x)\n",
    "t.pendown()\n",
    "t.fillcolor('red')\n",
    "t.begin_fill()\n",
    "t.left(180)\n",
    "t.forward(x)\n",
    "t.left(90)\n",
    "t.forward(x*2)\n",
    "t.left(90)\n",
    "t.forward(x)\n",
    "t.end_fill()\n",
    "\n",
    "turtle.done()"
   ]
  },
  {
   "cell_type": "code",
   "execution_count": null,
   "id": "156a448d",
   "metadata": {},
   "outputs": [],
   "source": []
  },
  {
   "cell_type": "code",
   "execution_count": null,
   "id": "dee5760c",
   "metadata": {},
   "outputs": [],
   "source": []
  },
  {
   "cell_type": "code",
   "execution_count": null,
   "id": "e38abbac",
   "metadata": {},
   "outputs": [],
   "source": []
  }
 ],
 "metadata": {
  "kernelspec": {
   "display_name": "Python 3 (ipykernel)",
   "language": "python",
   "name": "python3"
  },
  "language_info": {
   "codemirror_mode": {
    "name": "ipython",
    "version": 3
   },
   "file_extension": ".py",
   "mimetype": "text/x-python",
   "name": "python",
   "nbconvert_exporter": "python",
   "pygments_lexer": "ipython3",
   "version": "3.9.7"
  }
 },
 "nbformat": 4,
 "nbformat_minor": 5
}
