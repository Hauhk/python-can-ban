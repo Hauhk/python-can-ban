{
 "cells": [
  {
   "cell_type": "code",
   "execution_count": 1,
   "id": "ed4c91d0",
   "metadata": {},
   "outputs": [
    {
     "name": "stdout",
     "output_type": "stream",
     "text": [
      "20029\n"
     ]
    }
   ],
   "source": [
    "#khai báo biến\n",
    "x = 111\n",
    "y = 87\n",
    "z = 56\n",
    "a =  3\n",
    "\n",
    "#tính thể tích khối hộp chữ nhật\n",
    "Vcn = x * y *z \n",
    "\n",
    "#tính thể tích hình lập phương\n",
    "Vlp = a**3\n",
    "\n",
    "#tính số hình lập phương\n",
    "sl = Vcn//Vlp \n",
    "print(sl)"
   ]
  },
  {
   "cell_type": "code",
   "execution_count": null,
   "id": "669cb127",
   "metadata": {},
   "outputs": [],
   "source": []
  }
 ],
 "metadata": {
  "kernelspec": {
   "display_name": "Python 3 (ipykernel)",
   "language": "python",
   "name": "python3"
  },
  "language_info": {
   "codemirror_mode": {
    "name": "ipython",
    "version": 3
   },
   "file_extension": ".py",
   "mimetype": "text/x-python",
   "name": "python",
   "nbconvert_exporter": "python",
   "pygments_lexer": "ipython3",
   "version": "3.9.7"
  }
 },
 "nbformat": 4,
 "nbformat_minor": 5
}
