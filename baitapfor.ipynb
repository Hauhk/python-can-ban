{
 "cells": [
  {
   "cell_type": "code",
   "execution_count": 11,
   "id": "77b55894",
   "metadata": {},
   "outputs": [
    {
     "name": "stdout",
     "output_type": "stream",
     "text": [
      "Nhập vào số tự nhiên n: 5\n",
      "120\n"
     ]
    }
   ],
   "source": [
    "n = int(input(\"Nhập vào số tự nhiên n: \"))\n",
    "giai_thua = 1\n",
    "\n",
    "if n == 0 or n == 1:\n",
    "    print(giai_thua)\n",
    "else: \n",
    "    for i in range(2,n+1):\n",
    "        giai_thua = giai_thua *i\n",
    "    print(giai_thua)\n",
    "    "
   ]
  },
  {
   "cell_type": "code",
   "execution_count": 19,
   "id": "1bdd9981",
   "metadata": {},
   "outputs": [
    {
     "name": "stdout",
     "output_type": "stream",
     "text": [
      "Nhập vào số bàn thắng đội A: 10110\n",
      "Nhập vào số bàn thắng đội B: 11010\n",
      "Kết quả chung cuộc  3 : 3\n"
     ]
    }
   ],
   "source": [
    "A  = input(\"Nhập vào số bàn thắng đội A: \")\n",
    "B  = input(\"Nhập vào số bàn thắng đội B: \")\n",
    "\n",
    "C = 0\n",
    "D = 0\n",
    "\n",
    "for i in A:\n",
    "    if i == \"1\" : C += 1\n",
    "for i in B:\n",
    "    if i == \"1\" : D += 1\n",
    "\n",
    "print(\"Kết quả chung cuộc \",C,\":\",D)\n",
    "        "
   ]
  },
  {
   "cell_type": "code",
   "execution_count": 26,
   "id": "e778778e",
   "metadata": {},
   "outputs": [
    {
     "name": "stdout",
     "output_type": "stream",
     "text": [
      "Nhập vào số tự nhiên N: 8\n",
      "********\n",
      "*******\n",
      "******\n",
      "*****\n",
      "****\n",
      "***\n",
      "**\n",
      "*\n"
     ]
    }
   ],
   "source": [
    "N = int(input(\"Nhập vào số tự nhiên N: \"))\n",
    "\n",
    "for i in range(N,0,-1):\n",
    "    j = \"*\"*i\n",
    "    print(j)"
   ]
  },
  {
   "cell_type": "code",
   "execution_count": 14,
   "id": "a5046d70",
   "metadata": {},
   "outputs": [
    {
     "name": "stdout",
     "output_type": "stream",
     "text": [
      "Bảng cửu chương 1\n",
      "1 x 1 = 1\n",
      "2 x 1 = 2\n",
      "3 x 1 = 3\n",
      "4 x 1 = 4\n",
      "5 x 1 = 5\n",
      "6 x 1 = 6\n",
      "7 x 1 = 7\n",
      "8 x 1 = 8\n",
      "9 x 1 = 9\n",
      "Bảng cửu chương 2\n",
      "1 x 2 = 2\n",
      "2 x 2 = 4\n",
      "3 x 2 = 6\n",
      "4 x 2 = 8\n",
      "5 x 2 = 10\n",
      "6 x 2 = 12\n",
      "7 x 2 = 14\n",
      "8 x 2 = 16\n",
      "9 x 2 = 18\n",
      "Bảng cửu chương 3\n",
      "1 x 3 = 3\n",
      "2 x 3 = 6\n",
      "3 x 3 = 9\n",
      "4 x 3 = 12\n",
      "5 x 3 = 15\n",
      "6 x 3 = 18\n",
      "7 x 3 = 21\n",
      "8 x 3 = 24\n",
      "9 x 3 = 27\n",
      "Bảng cửu chương 4\n",
      "1 x 4 = 4\n",
      "2 x 4 = 8\n",
      "3 x 4 = 12\n",
      "4 x 4 = 16\n",
      "5 x 4 = 20\n",
      "6 x 4 = 24\n",
      "7 x 4 = 28\n",
      "8 x 4 = 32\n",
      "9 x 4 = 36\n",
      "Bảng cửu chương 5\n",
      "1 x 5 = 5\n",
      "2 x 5 = 10\n",
      "3 x 5 = 15\n",
      "4 x 5 = 20\n",
      "5 x 5 = 25\n",
      "6 x 5 = 30\n",
      "7 x 5 = 35\n",
      "8 x 5 = 40\n",
      "9 x 5 = 45\n",
      "Bảng cửu chương 6\n",
      "1 x 6 = 6\n",
      "2 x 6 = 12\n",
      "3 x 6 = 18\n",
      "4 x 6 = 24\n",
      "5 x 6 = 30\n",
      "6 x 6 = 36\n",
      "7 x 6 = 42\n",
      "8 x 6 = 48\n",
      "9 x 6 = 54\n",
      "Bảng cửu chương 7\n",
      "1 x 7 = 7\n",
      "2 x 7 = 14\n",
      "3 x 7 = 21\n",
      "4 x 7 = 28\n",
      "5 x 7 = 35\n",
      "6 x 7 = 42\n",
      "7 x 7 = 49\n",
      "8 x 7 = 56\n",
      "9 x 7 = 63\n",
      "Bảng cửu chương 8\n",
      "1 x 8 = 8\n",
      "2 x 8 = 16\n",
      "3 x 8 = 24\n",
      "4 x 8 = 32\n",
      "5 x 8 = 40\n",
      "6 x 8 = 48\n",
      "7 x 8 = 56\n",
      "8 x 8 = 64\n",
      "9 x 8 = 72\n",
      "Bảng cửu chương 9\n",
      "1 x 9 = 9\n",
      "2 x 9 = 18\n",
      "3 x 9 = 27\n",
      "4 x 9 = 36\n",
      "5 x 9 = 45\n",
      "6 x 9 = 54\n",
      "7 x 9 = 63\n",
      "8 x 9 = 72\n",
      "9 x 9 = 81\n"
     ]
    }
   ],
   "source": [
    "for i in range(1,10):\n",
    "    print(\"Bảng cửu chương\",i)\n",
    "    for j in range(1,10):\n",
    "        s = j * i\n",
    "        print(j,\"x\",i,\"=\",s)\n"
   ]
  },
  {
   "cell_type": "code",
   "execution_count": 10,
   "id": "f8d3e16e",
   "metadata": {},
   "outputs": [
    {
     "name": "stdout",
     "output_type": "stream",
     "text": [
      "Nhập vào số N: 9\n",
      "      \n",
      "     *\n",
      "    ***\n",
      "   *****\n",
      "  *******\n",
      " *********\n",
      "  *******\n",
      "   *****\n",
      "    ***\n",
      "     *\n"
     ]
    }
   ],
   "source": [
    "N = int(input(\"Nhập vào số N: \"))\n",
    "a = (N+1)/2\n",
    "for i in range (0,N+1):\n",
    "    if i <= a:\n",
    "        print(\" \"*int(a-i),\"*\"*int(2*i-1))\n",
    "    else:\n",
    "        print(\" \"*int(i-a),\"*\"*int(2*(2*a-i)-1))"
   ]
  },
  {
   "cell_type": "code",
   "execution_count": 9,
   "id": "d59a6900",
   "metadata": {},
   "outputs": [
    {
     "name": "stdout",
     "output_type": "stream",
     "text": [
      "Có tổng  184 cách\n"
     ]
    }
   ],
   "source": [
    "count = 0\n",
    "for i in range (100//2 +1):\n",
    "    for j in range(100//3+1):\n",
    "        for k in range(100//5+1):\n",
    "            if 2*i + 3*j + 5*k == 100:\n",
    "                count += 1\n",
    "print(\"Có tổng \",count,\"cách\")"
   ]
  },
  {
   "cell_type": "code",
   "execution_count": null,
   "id": "973435aa",
   "metadata": {},
   "outputs": [],
   "source": []
  }
 ],
 "metadata": {
  "kernelspec": {
   "display_name": "Python 3 (ipykernel)",
   "language": "python",
   "name": "python3"
  },
  "language_info": {
   "codemirror_mode": {
    "name": "ipython",
    "version": 3
   },
   "file_extension": ".py",
   "mimetype": "text/x-python",
   "name": "python",
   "nbconvert_exporter": "python",
   "pygments_lexer": "ipython3",
   "version": "3.9.7"
  }
 },
 "nbformat": 4,
 "nbformat_minor": 5
}
