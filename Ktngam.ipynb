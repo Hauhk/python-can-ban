{
 "cells": [
  {
   "cell_type": "code",
   "execution_count": 1,
   "id": "ef83ff9c",
   "metadata": {},
   "outputs": [
    {
     "name": "stdout",
     "output_type": "stream",
     "text": [
      "Nhập chuỗi:jsjiwuu19wjskcaguhxkbx\n",
      "ký tự i  là chữ nguyên âm\n",
      "ký tự u  là chữ nguyên âm\n",
      "ký tự u  là chữ nguyên âm\n",
      "ký tự a  là chữ nguyên âm\n",
      "ký tự u  là chữ nguyên âm\n"
     ]
    }
   ],
   "source": [
    "\n",
    "val = input('Nhập chuỗi:')\n",
    "n = len(val)\n",
    "a = 0 \n",
    "ngam = ['o','e','a','u','i','O','E','A','U','I']\n",
    "for a in range(0,n) :\n",
    "\tkt =  val [a] in ngam;\n",
    "\tif kt == True: print('ký tự', val[a], ' là chữ nguyên âm')\n",
    "\n"
   ]
  },
  {
   "cell_type": "code",
   "execution_count": null,
   "id": "f2b41be0",
   "metadata": {},
   "outputs": [],
   "source": []
  }
 ],
 "metadata": {
  "kernelspec": {
   "display_name": "Python 3 (ipykernel)",
   "language": "python",
   "name": "python3"
  },
  "language_info": {
   "codemirror_mode": {
    "name": "ipython",
    "version": 3
   },
   "file_extension": ".py",
   "mimetype": "text/x-python",
   "name": "python",
   "nbconvert_exporter": "python",
   "pygments_lexer": "ipython3",
   "version": "3.9.7"
  }
 },
 "nbformat": 4,
 "nbformat_minor": 5
}
