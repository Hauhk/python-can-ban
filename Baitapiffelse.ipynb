{
 "cells": [
  {
   "cell_type": "code",
   "execution_count": 3,
   "id": "d77075cc",
   "metadata": {},
   "outputs": [
    {
     "name": "stdout",
     "output_type": "stream",
     "text": [
      "Nhập vào số thứ 1 5\n",
      "Nhập vào số thứ 2 8\n",
      "Nhập vào số thứ 3 9\n",
      "Ba số vừa nhập không tạo thành bộ số pitago\n"
     ]
    }
   ],
   "source": [
    "a = int(input(\"Nhập vào số thứ 1\"))\n",
    "b = int(input(\"Nhập vào số thứ 2\"))\n",
    "c = int(input(\"Nhập vào số thứ 3\"))\n",
    "\n",
    "if a**2 == b**2 + c**2 or b**2 == a**2 + c**2 or c**2 == a**2 + b**2:\n",
    "    print(\"Ba số vừa nhập tạo thành bộ số pitago\")\n",
    "else: print(\"Ba số vừa nhập không tạo thành bộ số pitago\")\n"
   ]
  },
  {
   "cell_type": "code",
   "execution_count": 6,
   "id": "ae29b45f",
   "metadata": {},
   "outputs": [
    {
     "name": "stdout",
     "output_type": "stream",
     "text": [
      "Nhập vào tổng phút gọi: 60\n",
      "Tổng cước của gia đình là:  59000\n"
     ]
    }
   ],
   "source": [
    "a = int(input(\"Nhập vào tổng phút gọi: \"))\n",
    "tc = 0 \n",
    "if a <= 50:\n",
    "    tc = 25000 + a*600\n",
    "elif a > 50 and a <= 200:\n",
    "    tc = 25000 + 600*50 + (a-50)*400\n",
    "elif a > 200:\n",
    "    tc = 25000 + 600*50 + 150*400 + (a-200)*200\n",
    "print(\"Tổng cước của gia đình là: \", tc) "
   ]
  },
  {
   "cell_type": "code",
   "execution_count": 9,
   "id": "999f034d",
   "metadata": {},
   "outputs": [
    {
     "name": "stdout",
     "output_type": "stream",
     "text": [
      "nhập vào số bất kỳ5\n",
      "Thứ Bảy\n"
     ]
    }
   ],
   "source": [
    "a = int(input(\"nhập vào số bất kỳ\"))\n",
    "\n",
    "if a <= 6:\n",
    "    if a == 0 : print(\"Thứ Hai\")\n",
    "    elif a == 1 : print(\"Thứ Ba\")\n",
    "    elif a == 2 : print(\"Thứ Tư\")\n",
    "    elif a == 3 : print(\"Thứ Năm\")\n",
    "    elif a == 4 : print(\"Thứ Sáu\")\n",
    "    elif a == 5 : print(\"Thứ Bảy\")\n",
    "    elif a == 6 : print(\"Chủ Nhật\")\n",
    "else: print(\"Lỗi nhập dữ liệu đầu vào\")"
   ]
  },
  {
   "cell_type": "code",
   "execution_count": null,
   "id": "5ffbc4ed",
   "metadata": {},
   "outputs": [],
   "source": []
  }
 ],
 "metadata": {
  "kernelspec": {
   "display_name": "Python 3 (ipykernel)",
   "language": "python",
   "name": "python3"
  },
  "language_info": {
   "codemirror_mode": {
    "name": "ipython",
    "version": 3
   },
   "file_extension": ".py",
   "mimetype": "text/x-python",
   "name": "python",
   "nbconvert_exporter": "python",
   "pygments_lexer": "ipython3",
   "version": "3.9.7"
  }
 },
 "nbformat": 4,
 "nbformat_minor": 5
}
