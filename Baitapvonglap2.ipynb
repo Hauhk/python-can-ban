{
 "cells": [
  {
   "cell_type": "code",
   "execution_count": 1,
   "id": "0ac97daa",
   "metadata": {},
   "outputs": [
    {
     "name": "stdout",
     "output_type": "stream",
     "text": [
      "Nhập số lượng ngôi sao cần vẽ: 3\n"
     ]
    }
   ],
   "source": [
    "import turtle\n",
    "\n",
    "n = int(input(\"Nhập số lượng ngôi sao cần vẽ: \"))\n",
    "\n",
    "t = turtle.Turtle()\n",
    "t.shape('turtle')\n",
    "t.hideturtle()\n",
    "t.pencolor('yellow')\n",
    "t.penup()\n",
    "t.goto(-360,0)\n",
    "t.pendown()\n",
    "\n",
    "for i in range(n):\n",
    "    t.fillcolor('yellow')\n",
    "    t.begin_fill()\n",
    "    for i in range(5):\n",
    "        t.forward(50)\n",
    "        t.right(144)\n",
    "    t.end_fill()\n",
    "    t.penup()\n",
    "    t.forward(50 + 50)\n",
    "    t.pendown()\n",
    "turtle.done()"
   ]
  },
  {
   "cell_type": "code",
   "execution_count": 9,
   "id": "c75d189a",
   "metadata": {},
   "outputs": [
    {
     "name": "stdout",
     "output_type": "stream",
     "text": [
      "Nhập tên : ĐINH   ThỊ TỐ   PhƯơng\n",
      "Dinh Thi To Phuong "
     ]
    }
   ],
   "source": [
    "name = input(\"Nhập tên : \")\n",
    "\n",
    "edit_name = ' '\n",
    "\n",
    "check_a = ['Ă', 'ă', 'Ắ', 'ắ', 'Ẳ', 'ẳ', 'Â', 'â', 'Ấ', 'ấ', 'Ầ', 'ầ' ,'Ẩ', 'ẩ', 'Ẫ', 'ẫ', 'Ậ', 'ậ',]\n",
    "check_d = ['Đ', 'đ']\n",
    "check_e = ['Ê', 'ê', 'Ế', 'ế', 'Ề', 'ề', 'Ể', 'ể', 'Ễ', 'ễ', 'Ệ', 'ệ']\n",
    "check_i = ['Í', 'í', 'Ì', 'ì', 'Ỉ', 'ỉ', 'Ĩ', 'ĩ', 'Ị', 'ị']\n",
    "check_o = ['Ó', 'ó', 'Ò', 'ò', 'Ỏ', 'ỏ', 'Õ', 'õ', 'Ọ', 'ọ', 'Ô', 'ô', 'Ố', 'ố', 'Ồ', 'ồ', 'Ổ', 'ổ', 'Ỗ', 'ỗ', 'Ộ', 'ộ', 'Ơ', 'ơ', 'Ớ', 'ớ', 'Ờ', 'ờ', 'Ở', 'ở', 'Ỡ', 'ỡ', 'Ợ', 'ợ']\n",
    "check_u = ['Ú', 'ú', 'Ù', 'ù', 'Ủ', 'ủ', 'Ũ', 'ũ', 'Ụ', 'ụ', 'Ư', 'ư', 'Ứ', 'ứ', 'Ừ', 'ừ', 'Ử', 'ử', 'Ữ', 'ữ', 'Ự', 'ự']\n",
    "check_y = ['Ý', 'ý', 'Ỳ', 'ỳ', 'Ỷ', 'ỷ', 'Ỹ', 'ỹ', 'Ỵ', 'ỵ']\n",
    "\n",
    "for i in name:\n",
    "    if i in check_a:\n",
    "        i = 'a'\n",
    "    elif i in check_d:\n",
    "        i = 'd'\n",
    "    elif i in check_e:\n",
    "        i = 'e'   \n",
    "    elif i in check_i:\n",
    "        i = 'i'\n",
    "    elif i in check_o:\n",
    "        i = 'o'\n",
    "    elif i in check_u:\n",
    "        i = 'u'\n",
    "    elif i in check_y:\n",
    "        i = 'y'  \n",
    "    else: i = i        \n",
    "    edit_name += i   \n",
    "\n",
    "edit_name = edit_name.strip().lower().split(' ')    \n",
    "for i in edit_name:\n",
    "    if i != '':\n",
    "        i = i[0].upper() + i[1:]\n",
    "        print(i, end=' ')\n"
   ]
  },
  {
   "cell_type": "code",
   "execution_count": null,
   "id": "b8748c32",
   "metadata": {},
   "outputs": [],
   "source": []
  },
  {
   "cell_type": "code",
   "execution_count": null,
   "id": "e9409478",
   "metadata": {},
   "outputs": [],
   "source": []
  }
 ],
 "metadata": {
  "kernelspec": {
   "display_name": "Python 3 (ipykernel)",
   "language": "python",
   "name": "python3"
  },
  "language_info": {
   "codemirror_mode": {
    "name": "ipython",
    "version": 3
   },
   "file_extension": ".py",
   "mimetype": "text/x-python",
   "name": "python",
   "nbconvert_exporter": "python",
   "pygments_lexer": "ipython3",
   "version": "3.9.7"
  }
 },
 "nbformat": 4,
 "nbformat_minor": 5
}
