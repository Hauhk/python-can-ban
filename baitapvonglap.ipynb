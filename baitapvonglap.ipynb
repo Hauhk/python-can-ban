{
 "cells": [
  {
   "cell_type": "code",
   "execution_count": null,
   "id": "afe1ff85",
   "metadata": {},
   "outputs": [],
   "source": [
    "hten = input(\" Nhập vào họ tên: \")\n",
    "hten = hten.strip().lower().split(' ')\n",
    "\n",
    "for i in hten:\n",
    "    if i != '':\n",
    "        i = i[0].upper() + i[1:]\n",
    "        print(i, end=' ')"
   ]
  },
  {
   "cell_type": "code",
   "execution_count": 1,
   "id": "d3a5d88e",
   "metadata": {},
   "outputs": [
    {
     "name": "stdout",
     "output_type": "stream",
     "text": [
      "Nhập mã barcode5698623698521\n",
      "Mã vạch nhập sai\n"
     ]
    }
   ],
   "source": [
    "code = input(\"Nhập mã barcode: \")\n",
    "\n",
    "C = int(code[12])\n",
    "\n",
    "i = 0\n",
    "A = 0\n",
    "B = 0\n",
    "\n",
    "while i<12:\n",
    "    if i%2 == 0:\n",
    "        A += int(code[i])\n",
    "    else:\n",
    "        B += int(code[i])\n",
    "    i += 1\n",
    "    \n",
    "D = A + 3*B\n",
    "E = D%10\n",
    "\n",
    "if E !=0: F = 10-E\n",
    "else: F =E\n",
    "\n",
    "if F == C: print(\"Mã vạch nhập vào đúng\")\n",
    "else: print(\"Mã vạch nhập sai\")"
   ]
  },
  {
   "cell_type": "code",
   "execution_count": null,
   "id": "0bfdf5a1",
   "metadata": {},
   "outputs": [],
   "source": []
  }
 ],
 "metadata": {
  "kernelspec": {
   "display_name": "Python 3 (ipykernel)",
   "language": "python",
   "name": "python3"
  },
  "language_info": {
   "codemirror_mode": {
    "name": "ipython",
    "version": 3
   },
   "file_extension": ".py",
   "mimetype": "text/x-python",
   "name": "python",
   "nbconvert_exporter": "python",
   "pygments_lexer": "ipython3",
   "version": "3.9.7"
  }
 },
 "nbformat": 4,
 "nbformat_minor": 5
}
